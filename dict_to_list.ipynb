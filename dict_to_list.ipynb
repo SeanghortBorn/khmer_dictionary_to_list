{
 "cells": [
  {
   "cell_type": "markdown",
   "id": "d3af0efd-32fc-4e5a-bcbf-2b617937fee8",
   "metadata": {},
   "source": [
    "# Save words to a list"
   ]
  },
  {
   "cell_type": "code",
   "execution_count": 3,
   "id": "6228e30e-1cbd-4957-97c0-b33bbbb5e466",
   "metadata": {},
   "outputs": [
    {
     "name": "stdout",
     "output_type": "stream",
     "text": [
      "{'word': 'ក', 'pos': 'ន.', 'pro': '[ក]', 'definition': 'តួអក្សរទី១ក្នុងវគ្គទី១នៃអក្ខរក្រមព្យញ្ជនៈខ្មែរ។\\xa0តួអក្សរនេះមានឈ្មោះថា\\xa0ក\\xa0ហើយតាងឱ្យព្យញ្ជនៈ /ក/\\xa0មានអក្ខរសូរអន្តរជាតិ\\xa0[k]\\xa0ជាកណ្ឋជៈ មានសំឡេងក្នុងឋានបំពង់ក ជាសិថិល អឃោសៈ។', 'example': ''}\n",
      "Saving loop: 0\n",
      "{'word': 'ក', 'pos': 'ន.', 'pro': '[ក]', 'definition': 'តួអក្សរទី១ក្នុងវគ្គទី១នៃអក្ខរក្រមព្យញ្ជនៈខ្មែរ។\\xa0តួអក្សរនេះមានឈ្មោះថា\\xa0ក\\xa0ហើយតាងឱ្យព្យញ្ជនៈ /ក/\\xa0មានអក្ខរសូរអន្តរជាតិ\\xa0[k]\\xa0ជាកណ្ឋជៈ មានសំឡេងក្នុងឋានបំពង់ក ជាសិថិល អឃោសៈ។', 'example': ''}\n",
      "Saving loop: 1\n",
      "{'word': 'ក', 'pos': 'ន.', 'pro': '[ក]', 'definition': 'តួអក្សរទី១ក្នុងវគ្គទី១នៃអក្ខរក្រមព្យញ្ជនៈខ្មែរ។\\xa0តួអក្សរនេះមានឈ្មោះថា\\xa0ក\\xa0ហើយតាងឱ្យព្យញ្ជនៈ /ក/\\xa0មានអក្ខរសូរអន្តរជាតិ\\xa0[k]\\xa0ជាកណ្ឋជៈ មានសំឡេងក្នុងឋានបំពង់ក ជាសិថិល អឃោសៈ។', 'example': ''}\n",
      "Saving loop: 2\n",
      "{'word': 'ក', 'pos': 'ន.', 'pro': '[ក]', 'definition': 'តួអក្សរទី១ក្នុងវគ្គទី១នៃអក្ខរក្រមព្យញ្ជនៈខ្មែរ។\\xa0តួអក្សរនេះមានឈ្មោះថា\\xa0ក\\xa0ហើយតាងឱ្យព្យញ្ជនៈ /ក/\\xa0មានអក្ខរសូរអន្តរជាតិ\\xa0[k]\\xa0ជាកណ្ឋជៈ មានសំឡេងក្នុងឋានបំពង់ក ជាសិថិល អឃោសៈ។', 'example': ''}\n",
      "Saving loop: 3\n",
      "{'word': 'ក', 'pos': 'ន.', 'pro': '[ក]', 'definition': 'តួអក្សរទី១ក្នុងវគ្គទី១នៃអក្ខរក្រមព្យញ្ជនៈខ្មែរ។\\xa0តួអក្សរនេះមានឈ្មោះថា\\xa0ក\\xa0ហើយតាងឱ្យព្យញ្ជនៈ /ក/\\xa0មានអក្ខរសូរអន្តរជាតិ\\xa0[k]\\xa0ជាកណ្ឋជៈ មានសំឡេងក្នុងឋានបំពង់ក ជាសិថិល អឃោសៈ។', 'example': ''}\n",
      "Saving loop: 4\n",
      "{'word': 'ក', 'pos': 'ន.', 'pro': '[ក]', 'definition': 'តួអក្សរទី១ក្នុងវគ្គទី១នៃអក្ខរក្រមព្យញ្ជនៈខ្មែរ។\\xa0តួអក្សរនេះមានឈ្មោះថា\\xa0ក\\xa0ហើយតាងឱ្យព្យញ្ជនៈ /ក/\\xa0មានអក្ខរសូរអន្តរជាតិ\\xa0[k]\\xa0ជាកណ្ឋជៈ មានសំឡេងក្នុងឋានបំពង់ក ជាសិថិល អឃោសៈ។', 'example': ''}\n",
      "Saving loop: 5\n",
      "{'word': 'ក', 'pos': 'ន.', 'pro': '[ក]', 'definition': 'តួអក្សរទី១ក្នុងវគ្គទី១នៃអក្ខរក្រមព្យញ្ជនៈខ្មែរ។\\xa0តួអក្សរនេះមានឈ្មោះថា\\xa0ក\\xa0ហើយតាងឱ្យព្យញ្ជនៈ /ក/\\xa0មានអក្ខរសូរអន្តរជាតិ\\xa0[k]\\xa0ជាកណ្ឋជៈ មានសំឡេងក្នុងឋានបំពង់ក ជាសិថិល អឃោសៈ។', 'example': ''}\n",
      "Saving loop: 6\n",
      "{'word': 'ក', 'pos': 'ន.', 'pro': '[ក]', 'definition': 'តួអក្សរទី១ក្នុងវគ្គទី១នៃអក្ខរក្រមព្យញ្ជនៈខ្មែរ។\\xa0តួអក្សរនេះមានឈ្មោះថា\\xa0ក\\xa0ហើយតាងឱ្យព្យញ្ជនៈ /ក/\\xa0មានអក្ខរសូរអន្តរជាតិ\\xa0[k]\\xa0ជាកណ្ឋជៈ មានសំឡេងក្នុងឋានបំពង់ក ជាសិថិល អឃោសៈ។', 'example': ''}\n",
      "Saving loop: 7\n",
      "{'word': 'ក', 'pos': 'ន.', 'pro': '[ក]', 'definition': 'តួអក្សរទី១ក្នុងវគ្គទី១នៃអក្ខរក្រមព្យញ្ជនៈខ្មែរ។\\xa0តួអក្សរនេះមានឈ្មោះថា\\xa0ក\\xa0ហើយតាងឱ្យព្យញ្ជនៈ /ក/\\xa0មានអក្ខរសូរអន្តរជាតិ\\xa0[k]\\xa0ជាកណ្ឋជៈ មានសំឡេងក្នុងឋានបំពង់ក ជាសិថិល អឃោសៈ។', 'example': ''}\n",
      "Saving loop: 8\n",
      "{'word': 'ក', 'pos': 'ន.', 'pro': '[ក]', 'definition': 'តួអក្សរទី១ក្នុងវគ្គទី១នៃអក្ខរក្រមព្យញ្ជនៈខ្មែរ។\\xa0តួអក្សរនេះមានឈ្មោះថា\\xa0ក\\xa0ហើយតាងឱ្យព្យញ្ជនៈ /ក/\\xa0មានអក្ខរសូរអន្តរជាតិ\\xa0[k]\\xa0ជាកណ្ឋជៈ មានសំឡេងក្នុងឋានបំពង់ក ជាសិថិល អឃោសៈ។', 'example': ''}\n",
      "Saving loop: 9\n"
     ]
    }
   ],
   "source": [
    "import json\n",
    "import pandas as pd\n",
    "from datasets import load_dataset\n",
    "from collections import defaultdict\n",
    "\n",
    "def save_dict_to_json(entries, output_file):\n",
    "    # Create a default dictionary to collect homophones under each word\n",
    "    word_dict = defaultdict(lambda: {\"groundtruth\": \"\", \"homophones\": []})\n",
    "\n",
    "    for entry in entries:\n",
    "        word = entry[\"word\"]\n",
    "        pro = entry[\"pro\"]\n",
    "\n",
    "        # Clean up pronunciation by removing brackets if necessary\n",
    "        pro_cleaned = pro.strip(\"[]\").replace(\"-\",\"\").split(\",\")  # Assuming multiple pronunciations\n",
    "\n",
    "        word_dict[word][\"groundtruth\"] = word\n",
    "        for p in pro_cleaned:\n",
    "            if p and p not in word_dict[word][\"homophones\"]:\n",
    "                word_dict[word][\"homophones\"].append(p)\n",
    "\n",
    "    # Convert defaultdict back to a regular dict before saving\n",
    "    with open(output_file, \"w\", encoding=\"utf-8\") as f:\n",
    "        json.dump(dict(word_dict), f, ensure_ascii=False, indent=2)\n",
    "\n",
    "\n",
    "def save_dict_to_excel(entries, output_file):\n",
    "    # Create a list to collect data\n",
    "    data = []\n",
    "\n",
    "    for entry in entries:\n",
    "        word = entry[\"word\"]\n",
    "        pro = entry[\"pro\"]\n",
    "\n",
    "        # Clean up pronunciation by removing brackets and hyphens\n",
    "        pro_cleaned = pro.strip(\"[]\").replace(\"-\", \"\").split(\",\")  # Remove hyphens and handle multiple pronunciations\n",
    "\n",
    "        # Append each pronunciation (homophone) with its corresponding word\n",
    "        for p in pro_cleaned:\n",
    "            # Append the word and its corresponding pronunciation (homophone)\n",
    "            data.append({\"groundtruth\": word, \"homophone\": p})\n",
    "\n",
    "    # Convert the list of data into a pandas DataFrame\n",
    "    df = pd.DataFrame(data)\n",
    "\n",
    "    # Save the DataFrame to an Excel file\n",
    "    df.to_excel(output_file, index=False, engine='openpyxl')\n",
    "    \n",
    "for i in range(10):\n",
    "    begin_range = i*100\n",
    "    number_of_words_per_file = 100\n",
    "    end_range = begin_range + number_of_words_per_file\n",
    "    OUTPUT_FILE_JSON = f\"output/word_list_{begin_range}_{end_range-1}.json\"  # Using json format for better structure\n",
    "    OUTPUT_FILE_XLSX = f\"output/word_list_{begin_range}_{end_range-1}.xlsx\"\n",
    "    # Load data from Khmer dictionary\n",
    "    khmer_dictionary = load_dataset(\"seanghay/khmer-dictionary-44k\")\n",
    "    \n",
    "    # Collect entries in a batch and save them\n",
    "    entries_to_save = khmer_dictionary[\"train\"].select(range(begin_range, end_range))\n",
    "    \n",
    "    # Save the entries to JSON\n",
    "    # save_dict_to_json(entries_to_save, OUTPUT_FILE_JSON)\n",
    "    save_dict_to_excel(entries_to_save, OUTPUT_FILE_XLSX)\n",
    "    print(f\"Saving loop: {i}\")\n"
   ]
  },
  {
   "cell_type": "code",
   "execution_count": null,
   "id": "edb7370a-af2d-4bd4-9f51-4e9a4c687aa5",
   "metadata": {},
   "outputs": [],
   "source": []
  }
 ],
 "metadata": {
  "kernelspec": {
   "display_name": "my_lab",
   "language": "python",
   "name": "my_lab"
  },
  "language_info": {
   "codemirror_mode": {
    "name": "ipython",
    "version": 3
   },
   "file_extension": ".py",
   "mimetype": "text/x-python",
   "name": "python",
   "nbconvert_exporter": "python",
   "pygments_lexer": "ipython3",
   "version": "3.13.2"
  }
 },
 "nbformat": 4,
 "nbformat_minor": 5
}
